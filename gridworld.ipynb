{
 "cells": [
  {
   "cell_type": "code",
   "execution_count": 3,
   "id": "bb4af7c4-2ceb-4260-91ae-d3f2dde4b313",
   "metadata": {},
   "outputs": [
    {
     "name": "stdout",
     "output_type": "stream",
     "text": [
      "Final Value Function:\n",
      "[[0.81   0.9    1.     0.    ]\n",
      " [0.729  0.81   0.9    0.    ]\n",
      " [0.6561 0.729  0.81   0.729 ]]\n"
     ]
    }
   ],
   "source": [
    "import numpy as np\n",
    "\n",
    "grid_size = (3, 4)\n",
    "rewards = np.zeros(grid_size)\n",
    "\n",
    "# Setting rewards \n",
    "rewards[0, 3] = 1\n",
    "rewards[1, 3] = -1\n",
    "\n",
    "# Parameters\n",
    "gamma = 0.9\n",
    "convergent = 0.0001\n",
    "\n",
    "# Initializing value function to a matrix of zeros \n",
    "value_function = np.zeros(grid_size)\n",
    "\n",
    "# Setting actions up, down, left, right\n",
    "actions = [(-1, 0), (1, 0), (0, -1), (0, 1)]\n",
    "\n",
    "# Defining the terinal positions\n",
    "def terminalPositions(state):\n",
    "    return state == (0, 3) or state == (1, 3)\n",
    "\n",
    "# Function to get next state\n",
    "def get_next_state(state, action):\n",
    "    next_state = (state[0] + action[0], state[1] + action[1])\n",
    "    \n",
    "    # Check if next state is within the grid boundaries\n",
    "    if 0 <= next_state[0] < grid_size[0] and 0 <= next_state[1] < grid_size[1]:\n",
    "        return next_state\n",
    "    else:# If out of bounds, stay in the same state\n",
    "        return state \n",
    "\n",
    "# Value iteration\n",
    "\n",
    "while True:\n",
    "    # Difference checks the convergence \n",
    "    delta = 0\n",
    "\n",
    "    # Creates same copy of the matrix to store updated values of the value function\n",
    "    new_value_function = np.copy(value_function)\n",
    "\n",
    "    # Iterating each element in the loop \n",
    "    for i in range(grid_size[0]):\n",
    "        for j in range(grid_size[1]):\n",
    "            \n",
    "            # Declaring initial position \n",
    "            state = (i, j)\n",
    "\n",
    "            if terminalPositions(state):\n",
    "                continue\n",
    "\n",
    "            value_sum = []\n",
    "\n",
    "            # Getting the next step's position\n",
    "            for move in actions:\n",
    "                next_state = get_next_state(state, move)\n",
    "                \n",
    "                # Stores all the calculated value functions in all the directions using the Bellman equation in the list created above \n",
    "                value_sum.append(rewards[next_state] + gamma * value_function[next_state])\n",
    "\n",
    "            # Here all the possible values are sorted and the maximum value is stored in the copy array \n",
    "            new_value_function[state] = max(value_sum)\n",
    "\n",
    "            # Calculating the difference between the new matrix and the old one to see if the difference is negligible \n",
    "            delta = max(delta, abs(new_value_function[state] - value_function[state]))\n",
    "\n",
    "    # Updating the value function\n",
    "    value_function = new_value_function\n",
    "\n",
    "    if delta < convergent:\n",
    "        break\n",
    "\n",
    "# Printing the final value function\n",
    "print(\"Final Value Function:\" )\n",
    "print(value_function)\n"
   ]
  },
  {
   "cell_type": "code",
   "execution_count": null,
   "id": "d222c923-cfca-4dbc-b3c5-42ec69e5f167",
   "metadata": {},
   "outputs": [],
   "source": []
  }
 ],
 "metadata": {
  "kernelspec": {
   "display_name": "Python 3 (ipykernel)",
   "language": "python",
   "name": "python3"
  },
  "language_info": {
   "codemirror_mode": {
    "name": "ipython",
    "version": 3
   },
   "file_extension": ".py",
   "mimetype": "text/x-python",
   "name": "python",
   "nbconvert_exporter": "python",
   "pygments_lexer": "ipython3",
   "version": "3.12.4"
  }
 },
 "nbformat": 4,
 "nbformat_minor": 5
}
